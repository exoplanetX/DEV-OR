{
 "cells": [
  {
   "cell_type": "code",
   "execution_count": 3,
   "metadata": {
    "collapsed": true
   },
   "source": [
    "import pybnb"
   ],
   "outputs": []
  },
  {
   "cell_type": "code",
   "execution_count": 4,
   "source": [
    "# simple.py\n",
    "\n",
    "\n",
    "class Simple(pybnb.Problem):\n",
    "    def __init__(self):\n",
    "        self.bounds = [0.0,1.0]\n",
    "    def sense(self):\n",
    "        return pybnb.minimize\n",
    "    def objective(self):\n",
    "        return round(self.bounds[1] - self.bounds[0], 3)\n",
    "    def bound(self):\n",
    "        return -(self.bounds[1] - self.bounds[0])**2\n",
    "    def save_state(self, node):\n",
    "        node.state = self.bounds\n",
    "    def load_state(self, node):\n",
    "        self.bounds = node.state\n",
    "    def branch(self):\n",
    "        L, U = self.bounds\n",
    "        mid = 0.5 * (L + U)\n",
    "        for l,u in [(L,mid), (mid,U)]:\n",
    "            child = pybnb.Node()\n",
    "            child.state = (l,u)\n",
    "            yield child"
   ],
   "metadata": {
    "collapsed": false
   },
   "outputs": []
  },
  {
   "cell_type": "code",
   "execution_count": 8,
   "source": [
    "problem = Simple()\n",
    "results = pybnb.solve(problem, absolute_gap=1e-9)"
   ],
   "metadata": {
    "collapsed": false
   },
   "outputs": []
  },
  {
   "cell_type": "code",
   "execution_count": 7,
   "source": [
    "# simple.py\n",
    "\n",
    "\n",
    "class Simple(pybnb.Problem):\n",
    "    def __init__(self):\n",
    "        self._xL, self._xU = 0, 1\n",
    "\n",
    "    #\n",
    "    # required methods\n",
    "    #\n",
    "    def sense(self):\n",
    "        return pybnb.minimize\n",
    "\n",
    "    def objective(self):\n",
    "        return round(self._xU - self._xL, 3)\n",
    "\n",
    "    def bound(self):\n",
    "        return -((self._xU - self._xL) ** 2)\n",
    "\n",
    "    def save_state(self, node):\n",
    "        node.state = (self._xL, self._xU)\n",
    "\n",
    "    def load_state(self, node):\n",
    "        (self._xL, self._xU) = node.state\n",
    "\n",
    "    def branch(self):\n",
    "        xL, xU = self._xL, self._xU\n",
    "        xM = 0.5 * (xL + xU)\n",
    "        child = pybnb.Node()\n",
    "        child.state = (xL, xM)\n",
    "        yield child\n",
    "        child = pybnb.Node()\n",
    "        child.state = (xM, xU)\n",
    "        yield child\n",
    "\n",
    "    #\n",
    "    # optional methods\n",
    "    #\n",
    "    def notify_solve_begins(self, comm, worker_comm, convergence_checker):\n",
    "        pass\n",
    "\n",
    "    def notify_new_best_node(self, node, current):\n",
    "        pass\n",
    "\n",
    "    def notify_solve_finished(self, comm, worker_comm, results):\n",
    "        pass\n",
    "\n",
    "\n",
    "problem = Simple()\n",
    "solver = pybnb.Solver()\n",
    "results = solver.solve(problem, absolute_gap=1e-8)"
   ],
   "metadata": {
    "collapsed": false
   },
   "outputs": []
  },
  {
   "cell_type": "code",
   "execution_count": null,
   "source": [],
   "metadata": {
    "collapsed": false
   },
   "outputs": []
  }
 ],
 "metadata": {
  "kernelspec": {
   "display_name": "Python 3",
   "language": "python",
   "name": "python3"
  },
  "language_info": {
   "codemirror_mode": {
    "name": "ipython",
    "version": 2
   },
   "file_extension": ".py",
   "mimetype": "text/x-python",
   "name": "python",
   "nbconvert_exporter": "python",
   "pygments_lexer": "ipython2",
   "version": "2.7.6"
  }
 },
 "nbformat": 4,
 "nbformat_minor": 0
}
