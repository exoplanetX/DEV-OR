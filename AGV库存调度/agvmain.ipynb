{
 "cells": [
  {
   "cell_type": "code",
   "execution_count": null,
   "metadata": {
    "collapsed": true
   },
   "outputs": [],
   "source": []
  },
  {
   "cell_type": "code",
   "execution_count": null,
   "outputs": [],
   "source": [
    "import csv\n",
    "\n",
    "nodes = []\n",
    "nrows = ncols = 0\n",
    "with open('./data/map.csv', newline='', encoding='utf-8') as csvfile:\n",
    "  sr = csv.reader(csvfile, delimiter=',')\n",
    "  for line in sr:\n",
    "    if line[0].startswith('*'):\n",
    "      ncols = int(line[1])\n",
    "      nrows = int(line[2])\n",
    "    elif not line[0].startswith('#'):\n",
    "      nodes.append((line[0], int(line[1]), int(line[2])))\n",
    "print(\"load warehouse map of size {0} x {1}\".format(ncols, nrows))"
   ],
   "metadata": {
    "collapsed": false
   }
  }
 ],
 "metadata": {
  "kernelspec": {
   "display_name": "Python 3",
   "language": "python",
   "name": "python3"
  },
  "language_info": {
   "codemirror_mode": {
    "name": "ipython",
    "version": 2
   },
   "file_extension": ".py",
   "mimetype": "text/x-python",
   "name": "python",
   "nbconvert_exporter": "python",
   "pygments_lexer": "ipython2",
   "version": "2.7.6"
  }
 },
 "nbformat": 4,
 "nbformat_minor": 0
}
